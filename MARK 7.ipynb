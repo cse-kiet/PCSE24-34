{
 "cells": [
  {
   "cell_type": "code",
   "execution_count": 1,
   "id": "84e6ed02",
   "metadata": {},
   "outputs": [],
   "source": [
    "import tensorflow as tf\n",
    "from tensorflow import keras\n",
    "from tensorflow.keras.preprocessing.image import ImageDataGenerator\n",
    "from PIL import Image\n",
    "import os\n",
    "import numpy as np\n",
    "np.random.seed(42)\n",
    "tf.random.set_seed(42)"
   ]
  },
  {
   "cell_type": "code",
   "execution_count": 2,
   "id": "396eff82",
   "metadata": {},
   "outputs": [
    {
     "name": "stdout",
     "output_type": "stream",
     "text": [
      "Found 1402 images belonging to 3 classes.\n",
      "Found 300 images belonging to 3 classes.\n",
      "Found 307 images belonging to 3 classes.\n"
     ]
    }
   ],
   "source": [
    "from tensorflow.keras.preprocessing.image import ImageDataGenerator\n",
    "train_datagen = ImageDataGenerator(rescale=1.0/255.0)\n",
    "validation_datagen = ImageDataGenerator(rescale=1.0/255.0)\n",
    "test_datagen = ImageDataGenerator(rescale=1.0/255.0)\n",
    "\n",
    "batch_size = 10\n",
    "\n",
    "# Flow training images in batches using train_datagen generator\n",
    "train_generator = train_datagen.flow_from_directory(\n",
    "    'D:/NDT/train',\n",
    "    target_size=(224, 224),\n",
    "    batch_size=batch_size,\n",
    "    class_mode='categorical'\n",
    ")\n",
    "\n",
    "# Flow validation images in batches using validation_datagen generator\n",
    "validation_generator = validation_datagen.flow_from_directory(\n",
    "    'D:/NDT/val',\n",
    "    target_size=(224, 224),\n",
    "    batch_size=batch_size,\n",
    "    class_mode='categorical'\n",
    ")\n",
    "\n",
    "# Flow test images in batches using test_datagen generator\n",
    "test_generator = test_datagen.flow_from_directory(\n",
    "    'D:/NDT/test',\n",
    "    shuffle=False,\n",
    "    target_size=(224, 224),\n",
    "    batch_size=batch_size,\n",
    "    class_mode='categorical'\n",
    ")\n"
   ]
  },
  {
   "cell_type": "code",
   "execution_count": 3,
   "id": "b267f478",
   "metadata": {},
   "outputs": [
    {
     "name": "stdout",
     "output_type": "stream",
     "text": [
      "Epoch 1/40\n",
      "141/141 [==============================] - 72s 479ms/step - loss: 0.5523 - accuracy: 0.7611 - val_loss: 0.1040 - val_accuracy: 0.9933\n",
      "Epoch 2/40\n",
      "141/141 [==============================] - 61s 433ms/step - loss: 0.1265 - accuracy: 0.9608 - val_loss: 0.0556 - val_accuracy: 0.9933\n",
      "Epoch 3/40\n",
      "141/141 [==============================] - 61s 434ms/step - loss: 0.0892 - accuracy: 0.9765 - val_loss: 0.0538 - val_accuracy: 0.9933\n",
      "Epoch 4/40\n",
      "141/141 [==============================] - 61s 434ms/step - loss: 0.0613 - accuracy: 0.9857 - val_loss: 0.0319 - val_accuracy: 0.9933\n",
      "Epoch 5/40\n",
      "141/141 [==============================] - 61s 434ms/step - loss: 0.0596 - accuracy: 0.9843 - val_loss: 0.0277 - val_accuracy: 0.9933\n",
      "Epoch 6/40\n",
      "141/141 [==============================] - 61s 435ms/step - loss: 0.0389 - accuracy: 0.9893 - val_loss: 0.0391 - val_accuracy: 0.9933\n",
      "Epoch 7/40\n",
      "141/141 [==============================] - 61s 437ms/step - loss: 0.0376 - accuracy: 0.9886 - val_loss: 0.0445 - val_accuracy: 0.9933\n",
      "Epoch 8/40\n",
      "141/141 [==============================] - 61s 433ms/step - loss: 0.0359 - accuracy: 0.9914 - val_loss: 0.0285 - val_accuracy: 0.9933\n",
      "Epoch 9/40\n",
      "141/141 [==============================] - 61s 433ms/step - loss: 0.0320 - accuracy: 0.9907 - val_loss: 0.0279 - val_accuracy: 0.9933\n",
      "Epoch 10/40\n",
      "141/141 [==============================] - 61s 433ms/step - loss: 0.0307 - accuracy: 0.9900 - val_loss: 0.0537 - val_accuracy: 0.9933\n",
      "Epoch 11/40\n",
      "141/141 [==============================] - 61s 436ms/step - loss: 0.0358 - accuracy: 0.9922 - val_loss: 0.0500 - val_accuracy: 0.9933\n",
      "Epoch 12/40\n",
      "141/141 [==============================] - 61s 432ms/step - loss: 0.0365 - accuracy: 0.9914 - val_loss: 0.0287 - val_accuracy: 0.9933\n",
      "Epoch 13/40\n",
      "141/141 [==============================] - 61s 433ms/step - loss: 0.0368 - accuracy: 0.9879 - val_loss: 0.0220 - val_accuracy: 0.9933\n",
      "Epoch 14/40\n",
      "141/141 [==============================] - 61s 433ms/step - loss: 0.0334 - accuracy: 0.9900 - val_loss: 0.0230 - val_accuracy: 0.9933\n",
      "Epoch 15/40\n",
      "141/141 [==============================] - 61s 434ms/step - loss: 0.0280 - accuracy: 0.9929 - val_loss: 0.0215 - val_accuracy: 0.9933\n",
      "Epoch 16/40\n",
      "141/141 [==============================] - 61s 433ms/step - loss: 0.0266 - accuracy: 0.9914 - val_loss: 0.0269 - val_accuracy: 0.9933\n",
      "Epoch 17/40\n",
      "141/141 [==============================] - 61s 434ms/step - loss: 0.0247 - accuracy: 0.9914 - val_loss: 0.0223 - val_accuracy: 0.9933\n",
      "Epoch 18/40\n",
      "141/141 [==============================] - 61s 435ms/step - loss: 0.0254 - accuracy: 0.9922 - val_loss: 0.0289 - val_accuracy: 0.9933\n",
      "Epoch 19/40\n",
      "141/141 [==============================] - 61s 435ms/step - loss: 0.0268 - accuracy: 0.9914 - val_loss: 0.0291 - val_accuracy: 0.9933\n",
      "Epoch 20/40\n",
      "141/141 [==============================] - 61s 436ms/step - loss: 0.0246 - accuracy: 0.9936 - val_loss: 0.0236 - val_accuracy: 0.9933\n",
      "Epoch 21/40\n",
      "141/141 [==============================] - 61s 433ms/step - loss: 0.0261 - accuracy: 0.9936 - val_loss: 0.0229 - val_accuracy: 0.9933\n",
      "Epoch 22/40\n",
      "141/141 [==============================] - 61s 433ms/step - loss: 0.0278 - accuracy: 0.9893 - val_loss: 0.0269 - val_accuracy: 0.9933\n",
      "Epoch 23/40\n",
      "141/141 [==============================] - 61s 432ms/step - loss: 0.0259 - accuracy: 0.9907 - val_loss: 0.0214 - val_accuracy: 0.9933\n",
      "Epoch 24/40\n",
      "141/141 [==============================] - 61s 434ms/step - loss: 0.0247 - accuracy: 0.9914 - val_loss: 0.0272 - val_accuracy: 0.9933\n",
      "Epoch 25/40\n",
      "141/141 [==============================] - 61s 434ms/step - loss: 0.0244 - accuracy: 0.9922 - val_loss: 0.0256 - val_accuracy: 0.9933\n",
      "Epoch 26/40\n",
      "141/141 [==============================] - 61s 434ms/step - loss: 0.0212 - accuracy: 0.9929 - val_loss: 0.0251 - val_accuracy: 0.9933\n",
      "Epoch 27/40\n",
      "141/141 [==============================] - 61s 432ms/step - loss: 0.0237 - accuracy: 0.9914 - val_loss: 0.0224 - val_accuracy: 0.9933\n",
      "Epoch 28/40\n",
      "141/141 [==============================] - 61s 433ms/step - loss: 0.0224 - accuracy: 0.9929 - val_loss: 0.0280 - val_accuracy: 0.9933\n",
      "Epoch 29/40\n",
      "141/141 [==============================] - 61s 435ms/step - loss: 0.0213 - accuracy: 0.9929 - val_loss: 0.0255 - val_accuracy: 0.9933\n",
      "Epoch 30/40\n",
      "141/141 [==============================] - 61s 432ms/step - loss: 0.0189 - accuracy: 0.9943 - val_loss: 0.0236 - val_accuracy: 0.9933\n",
      "Epoch 31/40\n",
      "141/141 [==============================] - 61s 434ms/step - loss: 0.0184 - accuracy: 0.9936 - val_loss: 0.0233 - val_accuracy: 0.9933\n",
      "Epoch 32/40\n",
      "141/141 [==============================] - 61s 435ms/step - loss: 0.0202 - accuracy: 0.9936 - val_loss: 0.0337 - val_accuracy: 0.9933\n",
      "Epoch 33/40\n",
      "141/141 [==============================] - 61s 433ms/step - loss: 0.0218 - accuracy: 0.9943 - val_loss: 0.0244 - val_accuracy: 0.9933\n",
      "Epoch 34/40\n",
      "141/141 [==============================] - 63s 447ms/step - loss: 0.0178 - accuracy: 0.9936 - val_loss: 0.0219 - val_accuracy: 0.9933\n",
      "Epoch 35/40\n",
      "141/141 [==============================] - 61s 435ms/step - loss: 0.0238 - accuracy: 0.9922 - val_loss: 0.0381 - val_accuracy: 0.9833\n",
      "Epoch 36/40\n",
      "141/141 [==============================] - 61s 434ms/step - loss: 0.0235 - accuracy: 0.9914 - val_loss: 0.0259 - val_accuracy: 0.9933\n",
      "Epoch 37/40\n",
      "141/141 [==============================] - 61s 434ms/step - loss: 0.0196 - accuracy: 0.9929 - val_loss: 0.0262 - val_accuracy: 0.9933\n",
      "Epoch 38/40\n",
      "141/141 [==============================] - 61s 433ms/step - loss: 0.0208 - accuracy: 0.9929 - val_loss: 0.0266 - val_accuracy: 0.9933\n",
      "Epoch 39/40\n",
      "141/141 [==============================] - 61s 434ms/step - loss: 0.0225 - accuracy: 0.9929 - val_loss: 0.0224 - val_accuracy: 0.9933\n",
      "Epoch 40/40\n",
      "141/141 [==============================] - 62s 443ms/step - loss: 0.0229 - accuracy: 0.9936 - val_loss: 0.0214 - val_accuracy: 0.9933\n",
      "31/31 [==============================] - 11s 360ms/step - loss: 0.0116 - accuracy: 0.9967\n",
      "Test accuracy: 99.67%\n"
     ]
    }
   ],
   "source": [
    "from tensorflow.keras.applications import InceptionV3\n",
    "from tensorflow.keras.layers import GlobalAveragePooling2D, Dropout, Dense\n",
    "from tensorflow.keras.models import Model\n",
    "from tensorflow.keras.optimizers import SGD\n",
    "from tensorflow.keras.preprocessing.image import ImageDataGenerator\n",
    "\n",
    "# Specify input shape and number of classes\n",
    "input_shape = (224, 224, 3)  # Adjust input shape as needed\n",
    "num_classes = 3  # Adjust for your classification task\n",
    "\n",
    "# Load the InceptionV3 model with pre-trained ImageNet weights\n",
    "base_model = InceptionV3(include_top=False, weights='imagenet', input_shape=input_shape)\n",
    "\n",
    "# Add an additional fully connected layer\n",
    "x = base_model.output\n",
    "x = GlobalAveragePooling2D()(x)\n",
    "x = Dense(1024, activation='relu')(x)\n",
    "x = Dropout(0.4)(x)\n",
    "# Add an additional fully connected layer\n",
    "x = Dense(512, activation='relu')(x)\n",
    "\n",
    "predictions = Dense(num_classes, activation='softmax')(x)\n",
    "\n",
    "# Create the final model\n",
    "model = Model(inputs=base_model.input, outputs=predictions)\n",
    "\n",
    "# Freeze the layers of the pre-trained model\n",
    "for layer in base_model.layers:\n",
    "    layer.trainable = False\n",
    "\n",
    "# Compile the model with SGD optimizer and a specific learning rate\n",
    "model.compile(optimizer=SGD(learning_rate=0.001, momentum=0.95), loss='categorical_crossentropy', metrics=['accuracy'])\n",
    "\n",
    "# Train your model with your dataset\n",
    "# model.fit(train_generator, epochs=epochs, validation_data=val_generator)\n",
    "model.fit(train_generator, epochs=40, batch_size=10, validation_data=validation_generator)\n",
    "\n",
    "# Make sure to load your dataset and train the model with the appropriate data and labels.\n",
    "test_loss, test_accuracy = model.evaluate(test_generator)\n",
    "print(f'Test accuracy: {test_accuracy * 100:.2f}%')\n"
   ]
  },
  {
   "cell_type": "code",
   "execution_count": 4,
   "id": "348a33ed",
   "metadata": {},
   "outputs": [
    {
     "name": "stderr",
     "output_type": "stream",
     "text": [
      "C:\\Users\\swapn\\AppData\\Local\\Temp\\ipykernel_2512\\926090601.py:1: UserWarning: You are saving your model as an HDF5 file via `model.save()`. This file format is considered legacy. We recommend using instead the native Keras format, e.g. `model.save('my_model.keras')`.\n",
      "  tf.keras.models.save_model(model,'Test10.hdf5')\n"
     ]
    }
   ],
   "source": [
    "tf.keras.models.save_model(model,'Test10.hdf5')\n"
   ]
  },
  {
   "cell_type": "code",
   "execution_count": 5,
   "id": "3571a6d2",
   "metadata": {},
   "outputs": [
    {
     "name": "stdout",
     "output_type": "stream",
     "text": [
      "31/31 [==============================] - 13s 388ms/step\n",
      "31/31 [==============================] - 13s 373ms/step - loss: 0.0116 - accuracy: 0.9967\n",
      "Test accuracy: 99.67%\n"
     ]
    },
    {
     "data": {
      "image/png": "[encoded data removed]",
      "text/plain": [
       "<Figure size 800x600 with 2 Axes>"
      ]
     },
     "metadata": {},
     "output_type": "display_data"
    }
   ],
   "source": [
    "model = tf.keras.models.load_model('Test10.hdf5')\n",
    "import matplotlib.pyplot as plt\n",
    "from sklearn.metrics import confusion_matrix, classification_report\n",
    "predictions = model.predict(test_generator)\n",
    "predicted_labels = np.argmax(predictions, axis=1)\n",
    "test_loss, test_accuracy = model.evaluate(test_generator)\n",
    "print(f'Test accuracy: {test_accuracy * 100:.2f}%')\n",
    "# Get true labels\n",
    "true_labels = test_generator.classes\n",
    "\n",
    "# Get class names\n",
    "class_names = list(test_generator.class_indices.keys())\n",
    "\n",
    "# Calculate confusion matrix\n",
    "conf_matrix = confusion_matrix(true_labels, predicted_labels)\n",
    "\n",
    "# Plot confusion matrix\n",
    "plt.figure(figsize=(8, 6))\n",
    "plt.imshow(conf_matrix, interpolation='nearest', cmap=plt.cm.Blues)\n",
    "plt.title('Confusion Matrix')\n",
    "plt.colorbar()\n",
    "\n",
    "# Add labels and tick marks\n",
    "tick_marks = np.arange(len(class_names))\n",
    "plt.xticks(tick_marks, class_names, rotation=45)\n",
    "plt.yticks(tick_marks, class_names)\n",
    "\n",
    "# Display values in each cell\n",
    "for i in range(len(class_names)):\n",
    "    for j in range(len(class_names)):\n",
    "        plt.text(j, i, conf_matrix[i, j], ha='center', va='center', color='white' if conf_matrix[i, j] > conf_matrix.max() / 2 else 'black')\n",
    "\n",
    "plt.ylabel('True label')\n",
    "plt.xlabel('Predicted label')\n",
    "plt.tight_layout()\n",
    "plt.show()"
   ]
  },
  {
   "cell_type": "code",
   "execution_count": null,
   "id": "09a7edbc",
   "metadata": {},
   "outputs": [],
   "source": []
  }
 ],
 "metadata": {
  "kernelspec": {
   "display_name": "Python 3 (ipykernel)",
   "language": "python",
   "name": "python3"
  },
  "language_info": {
   "codemirror_mode": {
    "name": "ipython",
    "version": 3
   },
   "file_extension": ".py",
   "mimetype": "text/x-python",
   "name": "python",
   "nbconvert_exporter": "python",
   "pygments_lexer": "ipython3",
   "version": "3.10.9"
  }
 },
 "nbformat": 4,
 "nbformat_minor": 5
}
